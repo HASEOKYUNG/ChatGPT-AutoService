{
 "cells": [
  {
   "cell_type": "markdown",
   "id": "b25a480f",
   "metadata": {},
   "source": [
    "## Import"
   ]
  },
  {
   "cell_type": "code",
   "execution_count": 1,
   "id": "aa24c289",
   "metadata": {},
   "outputs": [
    {
     "name": "stderr",
     "output_type": "stream",
     "text": [
      "C:\\Users\\ha\\Anaconda3\\lib\\site-packages\\scipy\\__init__.py:146: UserWarning: A NumPy version >=1.16.5 and <1.23.0 is required for this version of SciPy (detected version 1.26.4\n",
      "  warnings.warn(f\"A NumPy version >={np_minversion} and <{np_maxversion}\"\n"
     ]
    }
   ],
   "source": [
    "import pandas as pd\n",
    "import numpy as np\n",
    "import time\n",
    "# BERT\n",
    "from transformers import BertModel, BertTokenizer\n",
    "# RoBERTa\n",
    "from transformers import RobertaModel, RobertaTokenizer\n",
    "# DistilBERT\n",
    "# from transformers import DistilBertModel, DistilBertTokenizer\n",
    "# XLMRoBERTa\n",
    "# pip install sentencepiece\n",
    "from transformers import XLMRobertaTokenizer, XLMRobertaModel\n",
    "# 유사도\n",
    "import torch\n",
    "from sklearn.metrics.pairwise import cosine_similarity\n",
    "import pickle\n",
    "import warnings;warnings.filterwarnings('ignore')"
   ]
  },
  {
   "cell_type": "markdown",
   "id": "8225680e",
   "metadata": {},
   "source": [
    "## Read data"
   ]
  },
  {
   "cell_type": "code",
   "execution_count": 2,
   "id": "2647cb6d",
   "metadata": {},
   "outputs": [],
   "source": [
    "BRAND_raw = pd.read_csv('PATH', encoding='utf-8')[['VARIANT_NM']].drop_duplicates()\n",
    "BRAND_product = pd.read_csv('PATH', encoding='cp949')[['ORIGINAL_NM']].drop_duplicates()\n",
    "print(f'{BRAND_raw.shape[0]}개 변형 상품명을 {BRAND_product.shape[0]}개 기준 상품명으로 변경합니다.')"
   ]
  },
  {
   "cell_type": "markdown",
   "id": "b161a67a",
   "metadata": {},
   "source": [
    "## Generate TrainDataSet"
   ]
  },
  {
   "cell_type": "code",
   "execution_count": null,
   "id": "7a680bc1",
   "metadata": {},
   "outputs": [],
   "source": [
    "# ORIGINAL_NM을 DB에 적재할 값(DC_ORIGINAL_NM)으로 가공한다.(행사나 주문일 제거, 특수기호 수정 등)\n",
    "# VARIANT_NM을 DC_ORIGINAL_NM(Target, 정답)을 붙이게 DC_VARIANT_NM으로 가공 후 병합한다.."
   ]
  },
  {
   "cell_type": "markdown",
   "id": "3d34e4ea",
   "metadata": {},
   "source": [
    "## 상품명 변환 AI\n",
    "SATUR, RAWROW로 실험해보며 정한 규칙을 적는다.\n",
    "- 여러 언어 상품명이 있어도 RAW한 상품명(VARIANT_NM)과 도출해야 하는 실제 상품명(DC_ORIGINAL_NM)으로 input되게 `concat`하여 사용한다.\n",
    "- 한 상품명에 여러 언어가 섞인 경우에도 VARIANT_NM, DC_ORIGINAL_NM으로만 예측한다.\n",
    "- DistilBERT를 제외하고 상품명 인식에 뛰어난 성능을 보인 `BERT`, `roBERTa`와 다국어 지원 모델인 `XLM`, `BERT-MULTI`로 Embedding을 한다."
   ]
  },
  {
   "cell_type": "code",
   "execution_count": 108,
   "id": "19f4f86b",
   "metadata": {},
   "outputs": [],
   "source": [
    "# 상품명에 언어가 혼재되지 않은 경우 사용할 함수\n",
    "def singleEncode(text):\n",
    "    tokens = tokenizer(text, return_tensors='pt', padding=True, truncation=True, max_length=512)\n",
    "    with torch.no_grad():\n",
    "        outputs = model(**tokens)\n",
    "    return outputs.last_hidden_state[:, 0, :].numpy()\n",
    "\n",
    "def singleEmbedding(names):\n",
    "    embeddings = [singleEncode(N) for N in names]\n",
    "    return embeddings"
   ]
  },
  {
   "cell_type": "code",
   "execution_count": 108,
   "id": "c7550aa5",
   "metadata": {},
   "outputs": [],
   "source": [
    "# 상품명에 언어가 혼재된 경우 사용할 함수\n",
    "def multiEncode(text):\n",
    "    # 평균을 반환하여 상품 정보가 고르게 반영되도록 조정함\n",
    "    tokens = tokenizer(text, return_tensors='pt', padding=True, truncation=True)\n",
    "    with torch.no_grad():\n",
    "        outputs = model(**tokens)\n",
    "    return outputs.last_hidden_state.mean(dim=1)\n",
    "\n",
    "def multiEmbedding(names):\n",
    "    embeddings = [multiEncode(N) for N in names]\n",
    "    return embeddings"
   ]
  },
  {
   "cell_type": "code",
   "execution_count": 105,
   "id": "7a1bf224",
   "metadata": {},
   "outputs": [],
   "source": [
    "# 코사인 유사도 반환 함수\n",
    "def Similarity(original_embeddings, variant_embeddings):\n",
    "    cs = []\n",
    "    for VE in variant_embeddings:\n",
    "        cs.append([cosine_similarity(VE, OE)[0][0] for OE in original_embeddings])\n",
    "    return cs"
   ]
  },
  {
   "cell_type": "markdown",
   "id": "5ea9b74c",
   "metadata": {},
   "source": [
    "### 0. 임시 코드\n",
    "BERT, DistilBERT token load를 임시로 적어둡니다.\n",
    "```python\n",
    "# 1. BERT\n",
    "tokenizer = BertTokenizer.from_pretrained('bert-base-uncased')\n",
    "model = BertModel.from_pretrained('bert-base-uncased')\n",
    "\n",
    "# 2. DistilBERT\n",
    "tokenizer = DistilBertTokenizer.from_pretrained('distilbert-base-uncased')\n",
    "model = DistilBertModel.from_pretrained('distilbert-base-uncased')\n",
    "```"
   ]
  },
  {
   "cell_type": "markdown",
   "id": "fa98af58",
   "metadata": {},
   "source": [
    "## 2. roBERTa\n",
    "- `모델 설명`"
   ]
  },
  {
   "cell_type": "code",
   "execution_count": null,
   "id": "632e5ef6",
   "metadata": {},
   "outputs": [],
   "source": [
    "tokenizer = RobertaTokenizer.from_pretrained('roberta-base')\n",
    "model = RobertaModel.from_pretrained('roberta-base')\n",
    "\n",
    "# 원본(자사몰 내지 고객의 상품 테이블), 변형(판매처 별 상품명)\n",
    "original_embeddings, variant_embeddings = singleEmbedding(BRAND['DC_Multi_nm']), singleEmbedding(BRAND['pro_nm'])\n",
    "\n",
    "# 변형된 상품명 별 원본 상품명과의 유사도\n",
    "roberta = pd.DataFrame(Similarity(original_embeddings, variant_embeddings))"
   ]
  },
  {
   "cell_type": "code",
   "execution_count": null,
   "id": "4852e1d9",
   "metadata": {},
   "outputs": [],
   "source": [
    "BRAND['predict'] = BRAND['DC_Multi_nm'].iloc[roberta.apply(lambda x: x.argmax()).values].values\n",
    "print('병합 시 상품명 정확도:', sum(BRAND['DC_Multi_nm']==BRAND['predict'])/BRAND.shape[0])"
   ]
  },
  {
   "cell_type": "markdown",
   "id": "558d6037",
   "metadata": {},
   "source": [
    "## 3. XLM-roBERTa \n",
    "- `모델 설명`"
   ]
  },
  {
   "cell_type": "code",
   "execution_count": null,
   "id": "ec0e2055",
   "metadata": {},
   "outputs": [],
   "source": [
    "tokenizer = XLMRobertaTokenizer.from_pretrained('xlm-roberta-base')\n",
    "model = XLMRobertaModel.from_pretrained('xlm-roberta-base')\n",
    "\n",
    "# 원본(자사몰 내지 고객의 상품 테이블), 변형(판매처 별 상품명)\n",
    "original_embeddings, variant_embeddings = multiEmbedding(BRAND['DC_Multi_nm']), multiEmbedding(BRAND['pro_nm'])\n",
    "\n",
    "# 변형된 상품명 별 원본 상품명과의 유사도\n",
    "xlm = pd.DataFrame(Similarity(original_embeddings, variant_embeddings))"
   ]
  },
  {
   "cell_type": "code",
   "execution_count": 15,
   "id": "7036250e",
   "metadata": {
    "scrolled": true
   },
   "outputs": [
    {
     "name": "stdout",
     "output_type": "stream",
     "text": [
      "병합 시 상품명 정확도: 0.913075780089153\n"
     ]
    }
   ],
   "source": [
    "BRAND['predict'] = BRAND['DC_Multi_nm'].iloc[xlm.apply(lambda x: x.argmax()).values].values\n",
    "print('병합 시 상품명 정확도:', sum(BRAND['DC_Multi_nm']==BRAND['predict'])/BRAND.shape[0])"
   ]
  },
  {
   "cell_type": "markdown",
   "id": "912d053c",
   "metadata": {},
   "source": [
    "## 4. BERT-Multilingual\n",
    "- `모델 설명`"
   ]
  },
  {
   "cell_type": "code",
   "execution_count": 109,
   "id": "44b1a4cd",
   "metadata": {},
   "outputs": [],
   "source": [
    "tokenizer = BertTokenizer.from_pretrained('bert-base-multilingual-uncased')\n",
    "model = BertModel.from_pretrained('bert-base-multilingual-uncased')\n",
    "\n",
    "# 원본(자사몰 내지 고객의 상품 테이블), 변형(판매처 별 상품명)\n",
    "original_embeddings, variant_embeddings = multiEmbedding(BRAND['DC_Multi_nm']), multiEmbedding(BRAND['pro_nm'])\n",
    "\n",
    "# 변형된 상품명 별 원본 상품명과의 유사도\n",
    "bert_multi = pd.DataFrame(Similarity(original_embeddings, variant_embeddings))"
   ]
  },
  {
   "cell_type": "code",
   "execution_count": 67,
   "id": "a0f2a3e4",
   "metadata": {},
   "outputs": [
    {
     "name": "stdout",
     "output_type": "stream",
     "text": [
      "병합 시 상품명 정확도: 0.9702823179791976\n"
     ]
    }
   ],
   "source": [
    "BRAND['predict'] = BRAND['DC_Multi_nm'].iloc[bert_multi.apply(lambda x: x.argmax()).values].values\n",
    "print('병합 시 상품명 정확도:', sum(BRAND['DC_Multi_nm']==BRAND['predict'])/BRAND.shape[0])"
   ]
  },
  {
   "cell_type": "markdown",
   "id": "8ad02532",
   "metadata": {},
   "source": [
    "## Ensemble\n",
    "- 모델의 정확도, 시간, 다중공선성(0.2 이하)을 고려하여 Ensemble한다.\n",
    "  ```python\n",
    "    # Satur 모델링 결과를 예시로 적어둡니다.\n",
    "    score = pd.DataFrame({'model':['roBERTa','XLM','BERT_multi'],\n",
    "                          'precision':[0.9777117384843982, 0.913075780089153, 0.9702823179791976],\n",
    "                          'time':[7.2, 9.7, 9.4]})\n",
    "\n",
    "    result = [roberta, xlm, bert_multi]\n",
    "    corr = []\n",
    "    for i in range(3):\n",
    "        for j in range(i+1,3):\n",
    "            corr.append([score['model'].loc[i], score['model'].loc[j], np.corrcoef(result[i], result[j]).mean()])\n",
    "\n",
    "    # 다중공선성 시각화\n",
    "    import seaborn as sns\n",
    "    sns.heatmap(pd.pivot_table(pd.DataFrame(corr), index=0, columns=1, values=2), annot=True, cmap='Blues')\n",
    "    ```\n",
    "- 1. 세 모델의 유사도를 산술평균 후 특정값일 확률을 구해 threshold 미만이면 결측을 반환하게 한다.<br>\n",
    "  2. 세 모델 의사결정을 다수결하여 특정값을 도출하지 못하면 결측을 반환하게 한다.<br>\n",
    "  3. 세 모델의 유사도 산술평균값을 input하여 상품명을 예측하는 stacking모델을 구현한다."
   ]
  },
  {
   "cell_type": "code",
   "execution_count": null,
   "id": "f25d0ce0",
   "metadata": {},
   "outputs": [],
   "source": [
    "# transpos됨 돌려야함!"
   ]
  },
  {
   "cell_type": "code",
   "execution_count": 130,
   "id": "1d912969",
   "metadata": {},
   "outputs": [],
   "source": [
    "bert, roberta, distilbert, xlm, bert_multi, _, _, _, _ = pickle.load(open('../data/satur/submission/240327_satur_modeling.pkl', 'rb'))"
   ]
  },
  {
   "cell_type": "code",
   "execution_count": 132,
   "id": "df4cb257",
   "metadata": {},
   "outputs": [
    {
     "data": {
      "text/plain": [
       "0.9806835066864784"
      ]
     },
     "execution_count": 132,
     "metadata": {},
     "output_type": "execute_result"
    }
   ],
   "source": [
    "# satur['predict'] = satur['DC_Multi_nm'].iloc[bert.T.apply(lambda x: x.argmax()).values].values\n",
    "sum(satur['predict']==satur['DC_Multi_nm'])/satur.shape[0]"
   ]
  },
  {
   "cell_type": "code",
   "execution_count": 133,
   "id": "3022036e",
   "metadata": {},
   "outputs": [
    {
     "data": {
      "text/plain": [
       "0.9814264487369985"
      ]
     },
     "execution_count": 133,
     "metadata": {},
     "output_type": "execute_result"
    }
   ],
   "source": [
    "satur['predict'] = satur['DC_Multi_nm'].iloc[xlm.T.apply(lambda x: x.argmax()).values].values\n",
    "sum(satur['predict']==satur['DC_Multi_nm'])/satur.shape[0]"
   ]
  },
  {
   "cell_type": "code",
   "execution_count": 140,
   "id": "7a5d4011",
   "metadata": {},
   "outputs": [
    {
     "data": {
      "text/plain": [
       "0.9829123328380386"
      ]
     },
     "execution_count": 140,
     "metadata": {},
     "output_type": "execute_result"
    }
   ],
   "source": [
    "satur['predict'] = satur['DC_Multi_nm'].iloc[mean.T.apply(lambda x: x.argmax()).values].values\n",
    "sum(satur['predict']==satur['DC_Multi_nm'])/satur.shape[0]"
   ]
  },
  {
   "cell_type": "code",
   "execution_count": 142,
   "id": "78b20a89",
   "metadata": {},
   "outputs": [
    {
     "data": {
      "text/plain": [
       "0.9829123328380386"
      ]
     },
     "execution_count": 142,
     "metadata": {},
     "output_type": "execute_result"
    }
   ],
   "source": [
    "satur['predict'] = satur['DC_Multi_nm'].iloc[mean.T.apply(lambda x: x.argmax()).values].values\n",
    "sum(satur['predict']==satur['DC_Multi_nm'])/satur.shape[0]"
   ]
  },
  {
   "cell_type": "code",
   "execution_count": null,
   "id": "c609e7ad",
   "metadata": {},
   "outputs": [],
   "source": []
  },
  {
   "cell_type": "code",
   "execution_count": 162,
   "id": "19ba18d6",
   "metadata": {},
   "outputs": [],
   "source": [
    "mean = pd.DataFrame((bert.values+xlm.values+bert_multi.values)/3, index=roberta.index,columns=roberta.columns)"
   ]
  },
  {
   "cell_type": "code",
   "execution_count": null,
   "id": "e070b324",
   "metadata": {},
   "outputs": [],
   "source": []
  },
  {
   "cell_type": "code",
   "execution_count": 8,
   "id": "9099d75c",
   "metadata": {},
   "outputs": [],
   "source": [
    "satur_raw = pd.read_csv('../data/satur/satur_20240313.csv',\n",
    "                        names=['nft_req_num', 'pro_nm', 'pro_cd', 'user_idx', 'price', 'ref_order_id', 'order_dt', 'store_nm'],\n",
    "                        encoding='utf-8')[['pro_nm']]\n",
    "satur_product = pd.read_csv('../data/satur/satur_product.csv', usecols=['enc_nm','kor_nm'], encoding='cp949')"
   ]
  },
  {
   "cell_type": "markdown",
   "id": "17e4f158",
   "metadata": {},
   "source": [
    "## Train DataSet"
   ]
  },
  {
   "cell_type": "markdown",
   "id": "d76a64cf",
   "metadata": {},
   "source": [
    "### $\\blacktriangleright$ Satur"
   ]
  },
  {
   "cell_type": "code",
   "execution_count": 9,
   "id": "66d90cc2",
   "metadata": {},
   "outputs": [
    {
     "data": {
      "text/plain": [
       "(1469, 3)"
      ]
     },
     "execution_count": 9,
     "metadata": {},
     "output_type": "execute_result"
    }
   ],
   "source": [
    "satur = satur_raw.drop_duplicates().reset_index(drop=True).reset_index()\n",
    "\n",
    "# 불필요한 특수문자를 제거한다.\n",
    "# [참고] MassAdoption\\3월\\240313_SaturAssociationRule\\1. DataCleansing\\3. Cleansing_ProductTable.ipynb\n",
    "satur['DC_pro_nm'] = satur.pro_nm.apply(lambda x: x[x.rindex('>')+1:] if '<' in x else x)\\\n",
    "                    .apply(lambda x: x[x.rindex(')')+1:] if '(' in x else x)\\\n",
    "                    .apply(lambda x: x[x.rindex(']')+1:] if '[' in x else x)\n",
    "satur.shape"
   ]
  },
  {
   "cell_type": "code",
   "execution_count": 10,
   "id": "cfc56c3b",
   "metadata": {},
   "outputs": [
    {
     "data": {
      "text/plain": [
       "(965, 5)"
      ]
     },
     "execution_count": 10,
     "metadata": {},
     "output_type": "execute_result"
    }
   ],
   "source": [
    "satur_product.fillna('-', inplace=True)\n",
    "satur_product = satur_product.drop_duplicates().reset_index(drop=True).reset_index().rename(columns={'index':'product_idx'})\n",
    "\n",
    "# 불필요한 특수문자를 제거한다.\n",
    "# [참고] MassAdoption\\3월\\240313_SaturAssociationRule\\1. DataCleansing\\3. Cleansing_ProductTable.ipynb\n",
    "satur_product['DC_enc_nm'] = satur_product['enc_nm'].apply(lambda x: x[x.rindex('>')+1:] if '<' in x else x)\\\n",
    "                            .apply(lambda x: x[x.rindex(')')+1:] if '(' in x else x)\\\n",
    "                            .apply(lambda x: x[x.rindex(']')+1:] if '[' in x else x).str.replace('\\n','').str.strip()\n",
    "satur_product['DC_kor_nm'] = satur_product['kor_nm'].apply(lambda x: x[x.rindex('>')+1:] if '<' in x else x)\\\n",
    "                            .apply(lambda x: x[x.rindex(')')+1:] if '(' in x else x)\\\n",
    "                            .apply(lambda x: x[x.rindex(']')+1:] if '[' in x else x).str.replace('\\n','').str.strip()\n",
    "satur_product.shape"
   ]
  },
  {
   "cell_type": "code",
   "execution_count": 11,
   "id": "714fe833",
   "metadata": {},
   "outputs": [
    {
     "name": "stdout",
     "output_type": "stream",
     "text": [
      "병합되지 않은 데이터 비율: 8.373042886317227\n"
     ]
    }
   ],
   "source": [
    "enc = satur.merge(satur_product, left_on='DC_pro_nm', right_on='DC_enc_nm')\n",
    "kor = satur.merge(satur_product, left_on='DC_pro_nm', right_on='DC_kor_nm')\n",
    "print('병합되지 않은 데이터 비율:', (1-((enc.shape[0]+kor.shape[0])/1469))*100)"
   ]
  },
  {
   "cell_type": "code",
   "execution_count": 12,
   "id": "79671372",
   "metadata": {},
   "outputs": [],
   "source": [
    "satur = pd.concat([enc[['pro_nm','DC_enc_nm']].rename(columns={'DC_enc_nm':'DC_Multi_nm'}),\n",
    "                   kor[['pro_nm','DC_kor_nm']].rename(columns={'DC_kor_nm':'DC_Multi_nm'})])"
   ]
  },
  {
   "cell_type": "code",
   "execution_count": null,
   "id": "94d16b12",
   "metadata": {},
   "outputs": [],
   "source": []
  },
  {
   "cell_type": "code",
   "execution_count": 151,
   "id": "15b34913",
   "metadata": {},
   "outputs": [],
   "source": [
    "# 1. 임계값 조정\n",
    "ease = mean.apply(lambda x: np.clip(x, 0, 1)).apply(lambda x: [x.max(), x.argmax()]).T\n",
    "\n",
    "ease = ease.apply(lambda x: np.nan if x[0] < 0.95 else x[1], axis=1)\n",
    "\n",
    "under_threshold = ease[ease.isna()].index\n",
    "\n",
    "over_threshold = satur.iloc[ease.dropna()]"
   ]
  },
  {
   "cell_type": "code",
   "execution_count": 152,
   "id": "e2dc7fde",
   "metadata": {},
   "outputs": [
    {
     "name": "stdout",
     "output_type": "stream",
     "text": [
      "병합 시 상품명 정확도: 1.0\n"
     ]
    }
   ],
   "source": [
    "print('병합 시 상품명 정확도:', sum(over_threshold['DC_Multi_nm']==over_threshold['predict'])/over_threshold.shape[0])"
   ]
  },
  {
   "cell_type": "code",
   "execution_count": 153,
   "id": "1b79a86c",
   "metadata": {
    "scrolled": true
   },
   "outputs": [
    {
     "data": {
      "text/plain": [
       "(1207, 3)"
      ]
     },
     "execution_count": 153,
     "metadata": {},
     "output_type": "execute_result"
    }
   ],
   "source": [
    "over_threshold.shape"
   ]
  },
  {
   "cell_type": "code",
   "execution_count": null,
   "id": "4f80aff2",
   "metadata": {},
   "outputs": [],
   "source": [
    "# index가 잘못 붙음"
   ]
  },
  {
   "cell_type": "code",
   "execution_count": 164,
   "id": "5fba6a5e",
   "metadata": {
    "scrolled": false
   },
   "outputs": [
    {
     "data": {
      "text/html": [
       "<div>\n",
       "<style scoped>\n",
       "    .dataframe tbody tr th:only-of-type {\n",
       "        vertical-align: middle;\n",
       "    }\n",
       "\n",
       "    .dataframe tbody tr th {\n",
       "        vertical-align: top;\n",
       "    }\n",
       "\n",
       "    .dataframe thead th {\n",
       "        text-align: right;\n",
       "    }\n",
       "</style>\n",
       "<table border=\"1\" class=\"dataframe\">\n",
       "  <thead>\n",
       "    <tr style=\"text-align: right;\">\n",
       "      <th></th>\n",
       "      <th>DC_Multi_nm</th>\n",
       "      <th>product_idx</th>\n",
       "      <th>DC_enc_nm</th>\n",
       "    </tr>\n",
       "  </thead>\n",
       "  <tbody>\n",
       "    <tr>\n",
       "      <th>0</th>\n",
       "      <td>Cafri Citron Drawing Graphic Sweatshirts - Cla...</td>\n",
       "      <td>307</td>\n",
       "      <td>Cafri Citron Drawing Graphic Sweatshirts - Cla...</td>\n",
       "    </tr>\n",
       "    <tr>\n",
       "      <th>1</th>\n",
       "      <td>Endless Saturday Hoodie - Classic Black</td>\n",
       "      <td>315</td>\n",
       "      <td>Endless Saturday Hoodie - Classic Black</td>\n",
       "    </tr>\n",
       "    <tr>\n",
       "      <th>2</th>\n",
       "      <td>Classic Letter Logo Hoodie - Classic Black</td>\n",
       "      <td>312</td>\n",
       "      <td>Classic Letter Logo Hoodie - Classic Black</td>\n",
       "    </tr>\n",
       "    <tr>\n",
       "      <th>3</th>\n",
       "      <td>Classic Dyed Cable Knit - Night Black</td>\n",
       "      <td>392</td>\n",
       "      <td>Classic Dyed Cable Knit - Night Black</td>\n",
       "    </tr>\n",
       "    <tr>\n",
       "      <th>4</th>\n",
       "      <td>Classic Dyed Cable Knit - Night Black</td>\n",
       "      <td>841</td>\n",
       "      <td>Classic Dyed Cable Knit - Night Black</td>\n",
       "    </tr>\n",
       "    <tr>\n",
       "      <th>...</th>\n",
       "      <td>...</td>\n",
       "      <td>...</td>\n",
       "      <td>...</td>\n",
       "    </tr>\n",
       "    <tr>\n",
       "      <th>1029</th>\n",
       "      <td>Dublin Unbalanced Chain Embroidery Sweatshirts...</td>\n",
       "      <td>329</td>\n",
       "      <td>Dublin Unbalanced Chain Embroidery Sweatshirts...</td>\n",
       "    </tr>\n",
       "    <tr>\n",
       "      <th>1030</th>\n",
       "      <td>Vinales Retro 2-Tuck Denim Pants - Light Blue</td>\n",
       "      <td>481</td>\n",
       "      <td>Vinales Retro 2-Tuck Denim Pants - Light Blue</td>\n",
       "    </tr>\n",
       "    <tr>\n",
       "      <th>1031</th>\n",
       "      <td>Leeds Wool Single Blazer - Vanta Black</td>\n",
       "      <td>54</td>\n",
       "      <td>Leeds Wool Single Blazer - Vanta Black</td>\n",
       "    </tr>\n",
       "    <tr>\n",
       "      <th>1032</th>\n",
       "      <td>Cafri Citron Heavy Cotton Sweatshirts - Melang...</td>\n",
       "      <td>301</td>\n",
       "      <td>Cafri Citron Heavy Cotton Sweatshirts - Melang...</td>\n",
       "    </tr>\n",
       "    <tr>\n",
       "      <th>1033</th>\n",
       "      <td>구아타 자르댕 : 태양의 사물 볼캡 리조트 아이보리</td>\n",
       "      <td>648</td>\n",
       "      <td>구아타 자르댕 : 태양의 사물 볼캡 리조트 아이보리</td>\n",
       "    </tr>\n",
       "  </tbody>\n",
       "</table>\n",
       "<p>1034 rows × 3 columns</p>\n",
       "</div>"
      ],
      "text/plain": [
       "                                            DC_Multi_nm  product_idx  \\\n",
       "0     Cafri Citron Drawing Graphic Sweatshirts - Cla...          307   \n",
       "1               Endless Saturday Hoodie - Classic Black          315   \n",
       "2            Classic Letter Logo Hoodie - Classic Black          312   \n",
       "3                 Classic Dyed Cable Knit - Night Black          392   \n",
       "4                 Classic Dyed Cable Knit - Night Black          841   \n",
       "...                                                 ...          ...   \n",
       "1029  Dublin Unbalanced Chain Embroidery Sweatshirts...          329   \n",
       "1030      Vinales Retro 2-Tuck Denim Pants - Light Blue          481   \n",
       "1031             Leeds Wool Single Blazer - Vanta Black           54   \n",
       "1032  Cafri Citron Heavy Cotton Sweatshirts - Melang...          301   \n",
       "1033                       구아타 자르댕 : 태양의 사물 볼캡 리조트 아이보리          648   \n",
       "\n",
       "                                              DC_enc_nm  \n",
       "0     Cafri Citron Drawing Graphic Sweatshirts - Cla...  \n",
       "1               Endless Saturday Hoodie - Classic Black  \n",
       "2            Classic Letter Logo Hoodie - Classic Black  \n",
       "3                 Classic Dyed Cable Knit - Night Black  \n",
       "4                 Classic Dyed Cable Knit - Night Black  \n",
       "...                                                 ...  \n",
       "1029  Dublin Unbalanced Chain Embroidery Sweatshirts...  \n",
       "1030      Vinales Retro 2-Tuck Denim Pants - Light Blue  \n",
       "1031             Leeds Wool Single Blazer - Vanta Black  \n",
       "1032  Cafri Citron Heavy Cotton Sweatshirts - Melang...  \n",
       "1033                       구아타 자르댕 : 태양의 사물 볼캡 리조트 아이보리  \n",
       "\n",
       "[1034 rows x 3 columns]"
      ]
     },
     "execution_count": 164,
     "metadata": {},
     "output_type": "execute_result"
    }
   ],
   "source": [
    "satur[['DC_Multi_nm']].merge(satur_product[['product_idx','DC_enc_nm']], left_on='DC_Multi_nm', right_on='DC_enc_nm')"
   ]
  },
  {
   "cell_type": "code",
   "execution_count": 167,
   "id": "dcad16a2",
   "metadata": {
    "scrolled": true
   },
   "outputs": [
    {
     "data": {
      "text/html": [
       "<div>\n",
       "<style scoped>\n",
       "    .dataframe tbody tr th:only-of-type {\n",
       "        vertical-align: middle;\n",
       "    }\n",
       "\n",
       "    .dataframe tbody tr th {\n",
       "        vertical-align: top;\n",
       "    }\n",
       "\n",
       "    .dataframe thead th {\n",
       "        text-align: right;\n",
       "    }\n",
       "</style>\n",
       "<table border=\"1\" class=\"dataframe\">\n",
       "  <thead>\n",
       "    <tr style=\"text-align: right;\">\n",
       "      <th></th>\n",
       "      <th>DC_Multi_nm</th>\n",
       "      <th>product_idx</th>\n",
       "      <th>DC_kor_nm</th>\n",
       "    </tr>\n",
       "  </thead>\n",
       "  <tbody>\n",
       "    <tr>\n",
       "      <th>0</th>\n",
       "      <td>구아타 자르댕 : 태양의 사물 볼캡 리조트 아이보리</td>\n",
       "      <td>648</td>\n",
       "      <td>구아타 자르댕 : 태양의 사물 볼캡 리조트 아이보리</td>\n",
       "    </tr>\n",
       "    <tr>\n",
       "      <th>1</th>\n",
       "      <td>테오 코튼 올 데이 후드 집업 팔레트 블랙</td>\n",
       "      <td>160</td>\n",
       "      <td>테오 코튼 올 데이 후드 집업 팔레트 블랙</td>\n",
       "    </tr>\n",
       "    <tr>\n",
       "      <th>2</th>\n",
       "      <td>테오 코튼 올 데이 후드 집업 팔레트 블랙</td>\n",
       "      <td>767</td>\n",
       "      <td>테오 코튼 올 데이 후드 집업 팔레트 블랙</td>\n",
       "    </tr>\n",
       "    <tr>\n",
       "      <th>3</th>\n",
       "      <td>테오 코튼 올 데이 후드 집업 팔레트 블랙</td>\n",
       "      <td>160</td>\n",
       "      <td>테오 코튼 올 데이 후드 집업 팔레트 블랙</td>\n",
       "    </tr>\n",
       "    <tr>\n",
       "      <th>4</th>\n",
       "      <td>테오 코튼 올 데이 후드 집업 팔레트 블랙</td>\n",
       "      <td>767</td>\n",
       "      <td>테오 코튼 올 데이 후드 집업 팔레트 블랙</td>\n",
       "    </tr>\n",
       "    <tr>\n",
       "      <th>...</th>\n",
       "      <td>...</td>\n",
       "      <td>...</td>\n",
       "      <td>...</td>\n",
       "    </tr>\n",
       "    <tr>\n",
       "      <th>715</th>\n",
       "      <td>클래식 첼시 데님 팬츠 미디움 워시드 블루</td>\n",
       "      <td>482</td>\n",
       "      <td>클래식 첼시 데님 팬츠 미디움 워시드 블루</td>\n",
       "    </tr>\n",
       "    <tr>\n",
       "      <th>716</th>\n",
       "      <td>클래식 스몰 로고 리벳 후드 클래식 네이비</td>\n",
       "      <td>297</td>\n",
       "      <td>클래식 스몰 로고 리벳 후드 클래식 네이비</td>\n",
       "    </tr>\n",
       "    <tr>\n",
       "      <th>717</th>\n",
       "      <td>클래식 스몰 로고 리벳 후드 클래식 네이비</td>\n",
       "      <td>825</td>\n",
       "      <td>클래식 스몰 로고 리벳 후드 클래식 네이비</td>\n",
       "    </tr>\n",
       "    <tr>\n",
       "      <th>718</th>\n",
       "      <td>클래식 스몰 로고 리벳 후드 클래식 네이비</td>\n",
       "      <td>297</td>\n",
       "      <td>클래식 스몰 로고 리벳 후드 클래식 네이비</td>\n",
       "    </tr>\n",
       "    <tr>\n",
       "      <th>719</th>\n",
       "      <td>클래식 스몰 로고 리벳 후드 클래식 네이비</td>\n",
       "      <td>825</td>\n",
       "      <td>클래식 스몰 로고 리벳 후드 클래식 네이비</td>\n",
       "    </tr>\n",
       "  </tbody>\n",
       "</table>\n",
       "<p>720 rows × 3 columns</p>\n",
       "</div>"
      ],
      "text/plain": [
       "                      DC_Multi_nm  product_idx                     DC_kor_nm\n",
       "0    구아타 자르댕 : 태양의 사물 볼캡 리조트 아이보리          648  구아타 자르댕 : 태양의 사물 볼캡 리조트 아이보리\n",
       "1         테오 코튼 올 데이 후드 집업 팔레트 블랙          160       테오 코튼 올 데이 후드 집업 팔레트 블랙\n",
       "2         테오 코튼 올 데이 후드 집업 팔레트 블랙          767       테오 코튼 올 데이 후드 집업 팔레트 블랙\n",
       "3         테오 코튼 올 데이 후드 집업 팔레트 블랙          160       테오 코튼 올 데이 후드 집업 팔레트 블랙\n",
       "4         테오 코튼 올 데이 후드 집업 팔레트 블랙          767       테오 코튼 올 데이 후드 집업 팔레트 블랙\n",
       "..                            ...          ...                           ...\n",
       "715       클래식 첼시 데님 팬츠 미디움 워시드 블루          482       클래식 첼시 데님 팬츠 미디움 워시드 블루\n",
       "716       클래식 스몰 로고 리벳 후드 클래식 네이비          297       클래식 스몰 로고 리벳 후드 클래식 네이비\n",
       "717       클래식 스몰 로고 리벳 후드 클래식 네이비          825       클래식 스몰 로고 리벳 후드 클래식 네이비\n",
       "718       클래식 스몰 로고 리벳 후드 클래식 네이비          297       클래식 스몰 로고 리벳 후드 클래식 네이비\n",
       "719       클래식 스몰 로고 리벳 후드 클래식 네이비          825       클래식 스몰 로고 리벳 후드 클래식 네이비\n",
       "\n",
       "[720 rows x 3 columns]"
      ]
     },
     "execution_count": 167,
     "metadata": {},
     "output_type": "execute_result"
    }
   ],
   "source": [
    "satur[['DC_Multi_nm']].merge(satur_product[['product_idx','DC_kor_nm']], left_on='DC_Multi_nm', right_on='DC_kor_nm')"
   ]
  },
  {
   "cell_type": "code",
   "execution_count": 155,
   "id": "ec1a8d6b",
   "metadata": {},
   "outputs": [
    {
     "data": {
      "text/plain": [
       "0.8967310549777118"
      ]
     },
     "execution_count": 155,
     "metadata": {},
     "output_type": "execute_result"
    }
   ],
   "source": [
    "1207/1346"
   ]
  },
  {
   "cell_type": "code",
   "execution_count": null,
   "id": "2d7e252e",
   "metadata": {},
   "outputs": [],
   "source": []
  },
  {
   "cell_type": "code",
   "execution_count": 123,
   "id": "4b1d50ba",
   "metadata": {
    "scrolled": true
   },
   "outputs": [
    {
     "data": {
      "text/html": [
       "<div>\n",
       "<style scoped>\n",
       "    .dataframe tbody tr th:only-of-type {\n",
       "        vertical-align: middle;\n",
       "    }\n",
       "\n",
       "    .dataframe tbody tr th {\n",
       "        vertical-align: top;\n",
       "    }\n",
       "\n",
       "    .dataframe thead th {\n",
       "        text-align: right;\n",
       "    }\n",
       "</style>\n",
       "<table border=\"1\" class=\"dataframe\">\n",
       "  <thead>\n",
       "    <tr style=\"text-align: right;\">\n",
       "      <th></th>\n",
       "      <th>pro_nm</th>\n",
       "      <th>DC_Multi_nm</th>\n",
       "      <th>predict</th>\n",
       "    </tr>\n",
       "  </thead>\n",
       "  <tbody>\n",
       "    <tr>\n",
       "      <th>0</th>\n",
       "      <td>Cafri Citron Drawing Graphic Sweatshirts - Cla...</td>\n",
       "      <td>Cafri Citron Drawing Graphic Sweatshirts - Cla...</td>\n",
       "      <td>Cafri Citron Drawing Graphic Sweatshirts - Cla...</td>\n",
       "    </tr>\n",
       "    <tr>\n",
       "      <th>1</th>\n",
       "      <td>Endless Saturday Hoodie - Classic Black</td>\n",
       "      <td>Endless Saturday Hoodie - Classic Black</td>\n",
       "      <td>Endless Saturday Hoodie - Classic Black</td>\n",
       "    </tr>\n",
       "    <tr>\n",
       "      <th>2</th>\n",
       "      <td>Classic Letter Logo Hoodie - Classic Black</td>\n",
       "      <td>Classic Letter Logo Hoodie - Classic Black</td>\n",
       "      <td>Classic Letter Logo Hoodie - Classic Black</td>\n",
       "    </tr>\n",
       "    <tr>\n",
       "      <th>3</th>\n",
       "      <td>Classic Dyed Cable Knit - Night Black</td>\n",
       "      <td>Classic Dyed Cable Knit - Night Black</td>\n",
       "      <td>Classic Dyed Cable Knit - Night Black</td>\n",
       "    </tr>\n",
       "    <tr>\n",
       "      <th>4</th>\n",
       "      <td>Classic Dyed Cable Knit - Night Black</td>\n",
       "      <td>Classic Dyed Cable Knit - Night Black</td>\n",
       "      <td>Classic Dyed Cable Knit - Night Black</td>\n",
       "    </tr>\n",
       "    <tr>\n",
       "      <th>...</th>\n",
       "      <td>...</td>\n",
       "      <td>...</td>\n",
       "      <td>...</td>\n",
       "    </tr>\n",
       "    <tr>\n",
       "      <th>526</th>\n",
       "      <td>심볼 브로치 데님 트러커 자켓 라이트 워시드 블루</td>\n",
       "      <td>심볼 브로치 데님 트러커 자켓 라이트 워시드 블루</td>\n",
       "      <td>Faro Cashmere Blend Collar Knit Cardigan - Cla...</td>\n",
       "    </tr>\n",
       "    <tr>\n",
       "      <th>527</th>\n",
       "      <td>이비자 네츄럴 메시드 니트 퍼시몬 핑크</td>\n",
       "      <td>이비자 네츄럴 메시드 니트 퍼시몬 핑크</td>\n",
       "      <td>Weekend Sunburst Swim Shorts</td>\n",
       "    </tr>\n",
       "    <tr>\n",
       "      <th>528</th>\n",
       "      <td>클래식 첼시 데님 팬츠 미디움 워시드 블루</td>\n",
       "      <td>클래식 첼시 데님 팬츠 미디움 워시드 블루</td>\n",
       "      <td>Keller Highwaist Carpenter Pants - Midnight Navy</td>\n",
       "    </tr>\n",
       "    <tr>\n",
       "      <th>529</th>\n",
       "      <td>클래식 스몰 로고 리벳 후드 클래식 네이비</td>\n",
       "      <td>클래식 스몰 로고 리벳 후드 클래식 네이비</td>\n",
       "      <td>Satur Keyring Leather Airpods Case - Pure Ivory</td>\n",
       "    </tr>\n",
       "    <tr>\n",
       "      <th>530</th>\n",
       "      <td>클래식 스몰 로고 리벳 후드 클래식 네이비</td>\n",
       "      <td>클래식 스몰 로고 리벳 후드 클래식 네이비</td>\n",
       "      <td>Classic Basic Logo Wappen Pullover Summer Knit...</td>\n",
       "    </tr>\n",
       "  </tbody>\n",
       "</table>\n",
       "<p>1346 rows × 3 columns</p>\n",
       "</div>"
      ],
      "text/plain": [
       "                                                pro_nm  \\\n",
       "0    Cafri Citron Drawing Graphic Sweatshirts - Cla...   \n",
       "1              Endless Saturday Hoodie - Classic Black   \n",
       "2           Classic Letter Logo Hoodie - Classic Black   \n",
       "3                Classic Dyed Cable Knit - Night Black   \n",
       "4                Classic Dyed Cable Knit - Night Black   \n",
       "..                                                 ...   \n",
       "526                        심볼 브로치 데님 트러커 자켓 라이트 워시드 블루   \n",
       "527                              이비자 네츄럴 메시드 니트 퍼시몬 핑크   \n",
       "528                            클래식 첼시 데님 팬츠 미디움 워시드 블루   \n",
       "529                            클래식 스몰 로고 리벳 후드 클래식 네이비   \n",
       "530                            클래식 스몰 로고 리벳 후드 클래식 네이비   \n",
       "\n",
       "                                           DC_Multi_nm  \\\n",
       "0    Cafri Citron Drawing Graphic Sweatshirts - Cla...   \n",
       "1              Endless Saturday Hoodie - Classic Black   \n",
       "2           Classic Letter Logo Hoodie - Classic Black   \n",
       "3                Classic Dyed Cable Knit - Night Black   \n",
       "4                Classic Dyed Cable Knit - Night Black   \n",
       "..                                                 ...   \n",
       "526                        심볼 브로치 데님 트러커 자켓 라이트 워시드 블루   \n",
       "527                              이비자 네츄럴 메시드 니트 퍼시몬 핑크   \n",
       "528                            클래식 첼시 데님 팬츠 미디움 워시드 블루   \n",
       "529                            클래식 스몰 로고 리벳 후드 클래식 네이비   \n",
       "530                            클래식 스몰 로고 리벳 후드 클래식 네이비   \n",
       "\n",
       "                                               predict  \n",
       "0    Cafri Citron Drawing Graphic Sweatshirts - Cla...  \n",
       "1              Endless Saturday Hoodie - Classic Black  \n",
       "2           Classic Letter Logo Hoodie - Classic Black  \n",
       "3                Classic Dyed Cable Knit - Night Black  \n",
       "4                Classic Dyed Cable Knit - Night Black  \n",
       "..                                                 ...  \n",
       "526  Faro Cashmere Blend Collar Knit Cardigan - Cla...  \n",
       "527                       Weekend Sunburst Swim Shorts  \n",
       "528   Keller Highwaist Carpenter Pants - Midnight Navy  \n",
       "529    Satur Keyring Leather Airpods Case - Pure Ivory  \n",
       "530  Classic Basic Logo Wappen Pullover Summer Knit...  \n",
       "\n",
       "[1346 rows x 3 columns]"
      ]
     },
     "execution_count": 123,
     "metadata": {},
     "output_type": "execute_result"
    }
   ],
   "source": [
    "satur"
   ]
  },
  {
   "cell_type": "code",
   "execution_count": null,
   "id": "8030ba41",
   "metadata": {},
   "outputs": [],
   "source": []
  },
  {
   "cell_type": "code",
   "execution_count": null,
   "id": "31ab26e5",
   "metadata": {},
   "outputs": [],
   "source": []
  },
  {
   "cell_type": "markdown",
   "id": "3536dcc4",
   "metadata": {},
   "source": [
    "## Save Data"
   ]
  },
  {
   "cell_type": "code",
   "execution_count": null,
   "id": "bee7d128",
   "metadata": {},
   "outputs": [],
   "source": []
  },
  {
   "cell_type": "code",
   "execution_count": null,
   "id": "b90bbbf1",
   "metadata": {},
   "outputs": [],
   "source": []
  }
 ],
 "metadata": {
  "kernelspec": {
   "display_name": "Python 3 (ipykernel)",
   "language": "python",
   "name": "python3"
  },
  "language_info": {
   "codemirror_mode": {
    "name": "ipython",
    "version": 3
   },
   "file_extension": ".py",
   "mimetype": "text/x-python",
   "name": "python",
   "nbconvert_exporter": "python",
   "pygments_lexer": "ipython3",
   "version": "3.9.12"
  }
 },
 "nbformat": 4,
 "nbformat_minor": 5
}
