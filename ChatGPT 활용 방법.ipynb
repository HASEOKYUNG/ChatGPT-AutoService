{
 "cells": [
  {
   "cell_type": "markdown",
   "id": "9017861c",
   "metadata": {},
   "source": [
    "## ChatGPT\n",
    "- 온라인의 다양한 웹사이트에서 크롤링한 텍스트 데이터로 학습된 Encoder-Decoder 모델이다.<br>\n",
    "  문장에서 특정 단어만 가리고 가려진 위치에 올 단어를 학습하게 해 질문에 답을 할 수 있는 구조이다.\n",
    "- 논문 요약, 번역 판별(Discriminative), 추천시스템도 생성할 수 있다.\n",
    "- 딥러닝으로 개발된 모델로 은닉층이 깊을수록 추상화 단계가 높은 특징을 사용해 인간처럼 고차원적 사고가 가능하다.<br>\n",
    "  GPT는 버전이 올라갈수록 Parameter수는 증가해 FineTunning하여 활용할 수 있는 방법이 무궁무진하지만 리소스를 감당하긴 어렵다."
   ]
  },
  {
   "cell_type": "markdown",
   "id": "6030cbde",
   "metadata": {},
   "source": [
    "## ChatGPT를 활용한 업무자동화\n",
    "- API를 기반으로 운영 중인 서비스로는 Hugging Face를 사용한 번역 서비스, Grammerly의 문장 검사 사례가 있다.\n",
    "- API로 서비스를 개발하지 않는 한 GPT에 작업을 구체적으로 전달하고 코드를 복사해 일일이 실행해야 한다.\n",
    "- ChatGPT 4로 자동화를 하기 위해선 작업의 명확한 조건(패키지, 데이터 개수 등)을 설정하고 Streamlit 같은 웹 구현 패키지로 조건값을 전달 받은 뒤 GPT의 답을 Google Colab이나 컴퓨터 내에서 동작시켜야 한다. 추후 작업 결과를 다시 웹에 돌려주고 저장, 이어서 작업 등의 액션을 하도록 물어보아야 한다.\n",
    "- GPT4는 라이브러리의 Github URL 전달만으로도 라이브러리 설치, 라이브러리를 활용한 작업을 진행한다.<br>\n",
    "  ex) https://github.com/danielgatis/rembg 를 활용한 배경제거, https://github.com/joedockrill/jmd_imagescraper를 활용한 DuckDuckGo 이미지 수집,<br>\n",
    "  $~~~$ https://github.com/akash-shastri/Chrome_image_scraper/blob/master/Chrome_Image_scraper.ipynb 를 활용한 Chrome 이미지 수집<br>\n",
    "  $~~~$ https://github.com/tomahim/py-image-dataset-generator 를 활용한 Chrome 이미지 수집\n",
    "- 유의할 점은 GPT의 답이 패키지 버전에 따라 오류가 날 수 있다는 점, 오류가 났을 때 GPT에게 수정을 묻는 액션을 할 수 있게 설정해야 한다는 것이다."
   ]
  },
  {
   "cell_type": "code",
   "execution_count": null,
   "id": "9c064d83",
   "metadata": {},
   "outputs": [],
   "source": []
  }
 ],
 "metadata": {
  "kernelspec": {
   "display_name": "Python 3 (ipykernel)",
   "language": "python",
   "name": "python3"
  },
  "language_info": {
   "codemirror_mode": {
    "name": "ipython",
    "version": 3
   },
   "file_extension": ".py",
   "mimetype": "text/x-python",
   "name": "python",
   "nbconvert_exporter": "python",
   "pygments_lexer": "ipython3",
   "version": "3.9.7"
  }
 },
 "nbformat": 4,
 "nbformat_minor": 5
}
